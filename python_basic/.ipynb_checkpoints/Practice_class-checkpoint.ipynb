{
 "cells": [
  {
   "cell_type": "markdown",
   "metadata": {},
   "source": [
    "■ 클래스<br>\n",
    " ● 객체지향의 가장 기본적 개념<br>\n",
    " ● 관련된 속성(모습)과 동작(기능)을 하나의 범주로 묶어 실세계의 사물을 표현<br>\n",
    " ● 모델링 : 사물을 분석하여 필요한 속성과 동작 추출<br>\n",
    " ● 캡슐화 : 모델 결과를 클래스로 포장(표현)<br>\n",
    " ● 멤버 : 클래스를 구성하는 변수와 함수<br>\n",
    " ● 메서드 : 클래스에 소속된 함수<br>\n",
    " ● 클래스의 변수를 활용하려면 반드시 self 선언<br>\n",
    " ● 메서드 자체의 코드만으로 동작할 때는<br>\n",
    " self 인수의 정보가 없어도 상관없음<br>"
   ]
  },
  {
   "cell_type": "code",
   "execution_count": 18,
   "metadata": {
    "scrolled": true
   },
   "outputs": [
    {
     "name": "stdout",
     "output_type": "stream",
     "text": [
      "가나다라카타파하\n",
      "ABCDWXYZ\n"
     ]
    }
   ],
   "source": [
    "class Letter:\n",
    "    letter = ''\n",
    " # 변수 선언 및 초기화\n",
    " # write 메소드(함수) 작성\n",
    "    def write(self,text):\n",
    "        self.letter += text\n",
    " # show 메소드(함수) 작성\n",
    "    def show(self):\n",
    "        return self.letter\n",
    "\n",
    "letter1 = Letter() # 생성, 네모박스. 그 주소는 letter1 이다. 생성된 인스턴스의 주소 저장\n",
    "letter1.write('가나다라') # 그 주소에 write 를 써주면 self 로 전달이 된다. write 호출시 주소가 self로 전달.  \n",
    "letter1.write('카타파하')\n",
    "letter2 = Letter()\n",
    "letter2.write('ABCD')\n",
    "letter2.write('WXYZ')\n",
    "print(letter1.show())\n",
    "print(letter2.show())"
   ]
  },
  {
   "cell_type": "code",
   "execution_count": 16,
   "metadata": {
    "scrolled": true
   },
   "outputs": [
    {
     "name": "stdout",
     "output_type": "stream",
     "text": [
      "Python 10000\n",
      "Java 10000\n"
     ]
    }
   ],
   "source": [
    "class Book:\n",
    "#     title = ' '\n",
    "#     price = 0\n",
    "\n",
    "\n",
    "    def setTitle(self,title):\n",
    "        self.title = title\n",
    "\n",
    "    def setPrice(self,price):\n",
    "        self.price = price\n",
    "    \n",
    " # 코드 작성\n",
    "book1 = Book()\n",
    "book1.setTitle('Python')\n",
    "book1.setPrice(10000)\n",
    "book2 = Book()\n",
    "book2.setTitle('Java')\n",
    "book2.setPrice(10000)\n",
    "print(book1.title, book1.price)\n",
    "print(book2.title, book2.price)"
   ]
  },
  {
   "cell_type": "code",
   "execution_count": 34,
   "metadata": {},
   "outputs": [
    {
     "name": "stdout",
     "output_type": "stream",
     "text": [
      "name=clock, code=c0001, count=500\n",
      "name=tv, code=t0001, count=1500\n"
     ]
    }
   ],
   "source": [
    "class Product:\n",
    " # 코드 작성\n",
    "    def __init__(self,name,code,count):\n",
    "        self.name = name\n",
    "        self.code = code\n",
    "        self.count = count\n",
    "     \n",
    "    def show_info(self):\n",
    "         return 'name=' + self.name + ', code=' + self.code + ', count=' + str(self.count)\n",
    "p1 = Product('clock', 'c0001', 500)\n",
    "print(p1.show_info())\n",
    "p2 = Product('tv', 't0001', 1500)\n",
    "print(p2.show_info())"
   ]
  },
  {
   "cell_type": "code",
   "execution_count": 26,
   "metadata": {},
   "outputs": [
    {
     "name": "stdout",
     "output_type": "stream",
     "text": [
      "['전동 트렁크', '통풍 시트', '뒷자리 에어백', '하이패스']\n",
      "['전동 트렁크', '통풍 시트', '뒷자리 에어백', '하이패스']\n"
     ]
    }
   ],
   "source": [
    "class Car:\n",
    " # 생성자 작성\n",
    "    \n",
    "    \n",
    "    def __init__(self):\n",
    "        self.list_car = []\n",
    "\n",
    " # add_option 메소드 작성\n",
    "    def add_option(self,text):\n",
    "        self.list_car.append(text)\n",
    "        \n",
    "        \n",
    "        \n",
    "# show_option 메소드 작성\n",
    "    def show_option(self):\n",
    "        return self.list_car\n",
    "\n",
    "car1 = Car()\n",
    "car2 = Car()\n",
    "car1.add_option('전동 트렁크')\n",
    "car1.add_option('통풍 시트')\n",
    "car2.add_option('뒷자리 에어백')\n",
    "car2.add_option('하이패스')\n",
    "print(car1.show_option())\n",
    "print(car2.show_option())"
   ]
  },
  {
   "cell_type": "code",
   "execution_count": 28,
   "metadata": {
    "scrolled": true
   },
   "outputs": [
    {
     "name": "stdout",
     "output_type": "stream",
     "text": [
      "['치즈', '베이컨', '고구마']\n",
      "['불고기', '피망']\n"
     ]
    }
   ],
   "source": [
    "class Pizza:\n",
    " # 생성자 작성\n",
    "    def __init__(self):\n",
    "        self.topping=[]\n",
    " \n",
    " # add_topping 메소드 작성\n",
    "    def add_topping(self,topping):\n",
    "        #self.topping +=[topping]\n",
    "        self.topping.append(topping)\n",
    "\n",
    "# remove 메소드 작성\n",
    "    def remove(self,topping):\n",
    "        self.topping.remove(topping)\n",
    "    \n",
    " # show_topping 메소드 작성\n",
    "    def show_topping(self):\n",
    "        return self.topping\n",
    "    \n",
    "p1 = Pizza()\n",
    "p1.add_topping('치즈')\n",
    "p1.add_topping('베이컨')\n",
    "p1.add_topping('고구마')\n",
    "p2 = Pizza()\n",
    "p2.add_topping('소시지')\n",
    "p2.add_topping('불고기')\n",
    "p2.add_topping('피망')\n",
    "p2.remove('소시지')\n",
    "print(p1.show_topping())\n",
    "print(p2.show_topping())"
   ]
  },
  {
   "cell_type": "markdown",
   "metadata": {},
   "source": [
    "### 상속\n",
    "\n",
    "- 부모의 속성을 자식도 갖는것\n",
    "\n",
    "예시 상황 : class calculator 에 공업용 calculator 기능을 부여하고 싶을 때.\n",
    "\n",
    "- 오버라이딩 : 부모의 속성을 수정해서 사용하는 것. \n"
   ]
  },
  {
   "cell_type": "code",
   "execution_count": null,
   "metadata": {},
   "outputs": [],
   "source": [
    "class EngineeringCalculator(Calculator): # Calculator 를 EngineeringCaluclator 에 넣음. \n",
    " pass\n"
   ]
  },
  {
   "cell_type": "code",
   "execution_count": 38,
   "metadata": {
    "scrolled": true
   },
   "outputs": [
    {
     "name": "stdout",
     "output_type": "stream",
     "text": [
      "20\n",
      "홍길동의 나이는 25\n"
     ]
    }
   ],
   "source": [
    "class Data:\n",
    "    def __init__(self, data):\n",
    "        words = data.split('|')\n",
    "        self.idx = words[0]\n",
    "        self.name = words[1]\n",
    "        self.age = words[2]\n",
    "        self.grade = words[3]\n",
    "\n",
    "    def print_age(self):\n",
    "        print('%s의 나이는 %s' % (self.name, self.age))\n",
    "\n",
    "        \n",
    "data1 = Data('1|김길동|20|A')\n",
    "age1 = data1.age;\n",
    "print(age1)\n",
    "data2 = Data('2|홍길동|25|B')\n",
    "data2.print_age()"
   ]
  },
  {
   "cell_type": "code",
   "execution_count": 44,
   "metadata": {},
   "outputs": [
    {
     "name": "stdout",
     "output_type": "stream",
     "text": [
      "합계 15\n"
     ]
    }
   ],
   "source": [
    "class EachSum:\n",
    "    def __init__(self):\n",
    "        self.total = 0\n",
    "        \n",
    "    def compute(self,n):\n",
    "        while n >0:\n",
    "            n1 = n % 10\n",
    "            n = n //10\n",
    "            self.total = self.total + n1 \n",
    "        return self.total\n",
    "            \n",
    "\n",
    " # 코드 작성\n",
    "each = EachSum()\n",
    "total = each.compute(12345)\n",
    "print('합계', total)"
   ]
  },
  {
   "cell_type": "code",
   "execution_count": 61,
   "metadata": {},
   "outputs": [
    {
     "name": "stdout",
     "output_type": "stream",
     "text": [
      "쌀국수\n"
     ]
    }
   ],
   "source": [
    "import random\n",
    "\n",
    "\n",
    "class SelectMenu:\n",
    "   \n",
    "    \n",
    "    def __init__(self, menu):\n",
    "        self.menu = menu\n",
    "\n",
    " \n",
    "    def get_menu(self):\n",
    "\n",
    "        num=random.randint(0, 3)\n",
    "        self.menu[num]\n",
    "        return self.menu[num]\n",
    "\n",
    "\n",
    "menu = SelectMenu(['짬뽕', '초밥', '쌀국수', '주꾸미'])\n",
    "print(menu.get_menu())"
   ]
  },
  {
   "cell_type": "markdown",
   "metadata": {},
   "source": [
    "### 모듈\n",
    "\n",
    "위 주피터와 같은 폴더에 Calculator.py  생성함.\n",
    "\n",
    "def plus(first, second):\n",
    "    return first + second\n",
    "def minus(first, second):\n",
    "    return first - second\n",
    "def multiply(first, second):\n",
    "    return first * second\n",
    "def divide(first, second):\n",
    "    return first / second\n",
    "\n"
   ]
  },
  {
   "cell_type": "code",
   "execution_count": 6,
   "metadata": {},
   "outputs": [
    {
     "data": {
      "text/plain": [
       "7"
      ]
     },
     "execution_count": 6,
     "metadata": {},
     "output_type": "execute_result"
    }
   ],
   "source": [
    "import Calculator as cal\n",
    "cal.plus(5,2)"
   ]
  },
  {
   "cell_type": "code",
   "execution_count": 10,
   "metadata": {},
   "outputs": [
    {
     "data": {
      "text/plain": [
       "2"
      ]
     },
     "execution_count": 10,
     "metadata": {},
     "output_type": "execute_result"
    }
   ],
   "source": [
    "from Calculator import minus #특정 함수만 사용할 수 있음. plus 함수 사용 못함. \n",
    "minus(4,2)\n"
   ]
  },
  {
   "cell_type": "code",
   "execution_count": 11,
   "metadata": {},
   "outputs": [
    {
     "data": {
      "text/plain": [
       "2"
      ]
     },
     "execution_count": 11,
     "metadata": {},
     "output_type": "execute_result"
    }
   ],
   "source": [
    "from random import randint\n",
    "randint(1,3)"
   ]
  },
  {
   "cell_type": "code",
   "execution_count": 24,
   "metadata": {},
   "outputs": [],
   "source": [
    "from mymode import myfunc"
   ]
  },
  {
   "cell_type": "code",
   "execution_count": 25,
   "metadata": {},
   "outputs": [
    {
     "data": {
      "text/plain": [
       "3"
      ]
     },
     "execution_count": 25,
     "metadata": {},
     "output_type": "execute_result"
    }
   ],
   "source": [
    "myfunc(1,2)"
   ]
  },
  {
   "cell_type": "code",
   "execution_count": 29,
   "metadata": {},
   "outputs": [
    {
     "ename": "ModuleNotFoundError",
     "evalue": "No module named 'mod_class'",
     "output_type": "error",
     "traceback": [
      "\u001b[1;31m---------------------------------------------------------------------------\u001b[0m",
      "\u001b[1;31mModuleNotFoundError\u001b[0m                       Traceback (most recent call last)",
      "\u001b[1;32m<ipython-input-29-bf22a8ac68a7>\u001b[0m in \u001b[0;36m<module>\u001b[1;34m\u001b[0m\n\u001b[1;32m----> 1\u001b[1;33m \u001b[1;32mimport\u001b[0m \u001b[0mmod_class\u001b[0m \u001b[1;32mas\u001b[0m \u001b[0mmc\u001b[0m\u001b[1;33m\u001b[0m\u001b[1;33m\u001b[0m\u001b[0m\n\u001b[0m\u001b[0;32m      2\u001b[0m \u001b[0mmy_class\u001b[0m \u001b[1;33m=\u001b[0m \u001b[0mmc\u001b[0m\u001b[1;33m.\u001b[0m\u001b[0mMyClass\u001b[0m\u001b[1;33m(\u001b[0m\u001b[1;34m'A'\u001b[0m\u001b[1;33m)\u001b[0m\u001b[1;33m\u001b[0m\u001b[1;33m\u001b[0m\u001b[0m\n\u001b[0;32m      3\u001b[0m \u001b[0mmy_class\u001b[0m\u001b[1;33m.\u001b[0m\u001b[0mshow\u001b[0m\u001b[1;33m(\u001b[0m\u001b[1;33m)\u001b[0m\u001b[1;33m\u001b[0m\u001b[1;33m\u001b[0m\u001b[0m\n\u001b[0;32m      4\u001b[0m \u001b[0mprint\u001b[0m\u001b[1;33m(\u001b[0m\u001b[0mmy_class\u001b[0m\u001b[1;33m.\u001b[0m\u001b[0mget_name\u001b[0m\u001b[1;33m(\u001b[0m\u001b[1;33m)\u001b[0m\u001b[1;33m)\u001b[0m\u001b[1;33m\u001b[0m\u001b[1;33m\u001b[0m\u001b[0m\n",
      "\u001b[1;31mModuleNotFoundError\u001b[0m: No module named 'mod_class'"
     ]
    }
   ],
   "source": [
    "import mod_class as mc\n",
    "my_class = mc.MyClass('A')\n",
    "my_class.show()\n",
    "print(my_class.get_name())\n"
   ]
  }
 ],
 "metadata": {
  "kernelspec": {
   "display_name": "Python 3",
   "language": "python",
   "name": "python3"
  },
  "language_info": {
   "codemirror_mode": {
    "name": "ipython",
    "version": 3
   },
   "file_extension": ".py",
   "mimetype": "text/x-python",
   "name": "python",
   "nbconvert_exporter": "python",
   "pygments_lexer": "ipython3",
   "version": "3.7.4"
  }
 },
 "nbformat": 4,
 "nbformat_minor": 2
}
