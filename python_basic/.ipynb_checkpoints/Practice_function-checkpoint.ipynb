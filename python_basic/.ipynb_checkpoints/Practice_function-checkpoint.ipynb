{
 "cells": [
  {
   "cell_type": "code",
   "execution_count": 1,
   "metadata": {},
   "outputs": [
    {
     "name": "stdout",
     "output_type": "stream",
     "text": [
      "15\n"
     ]
    }
   ],
   "source": [
    "def plus(a, b):\n",
    " return a + b\n",
    "x = 10\n",
    "y = 5\n",
    "result = plus(x, y) # result = plus(10, 5)\n",
    "print(result)"
   ]
  },
  {
   "cell_type": "code",
   "execution_count": 2,
   "metadata": {},
   "outputs": [
    {
     "name": "stdout",
     "output_type": "stream",
     "text": [
      "240 80.0\n"
     ]
    }
   ],
   "source": [
    "def total(a, b, c): # 합을 구하는 함수\n",
    " return a + b + c\n",
    "def average(num, count): # 평균을 구하는 함수\n",
    " return num / count\n",
    "num = total(90, 80, 70) # 합을 계산한 결과 반환\n",
    "avg = average(num, 3) # 평균을 계산한 결과 반환\n",
    "print(num, avg)\n"
   ]
  },
  {
   "cell_type": "code",
   "execution_count": 12,
   "metadata": {},
   "outputs": [
    {
     "name": "stdout",
     "output_type": "stream",
     "text": [
      "False\n"
     ]
    }
   ],
   "source": [
    "# 코드 작성\n",
    "# 입력된 숫자가 홀수이면 True 반환\n",
    "# 입력된 숫자가 짝수이면 False 반환\n",
    "\n",
    "def isOdd(num):\n",
    "    return num % 2 != 0\n",
    "\n",
    "print(isOdd(2))"
   ]
  },
  {
   "cell_type": "code",
   "execution_count": 13,
   "metadata": {},
   "outputs": [
    {
     "name": "stdout",
     "output_type": "stream",
     "text": [
      "8\n",
      "2\n"
     ]
    }
   ],
   "source": [
    "# 코드 작성\n",
    "def plus(a,b):\n",
    "    return a + b\n",
    "def minus(a,b):\n",
    "    return a - b\n",
    "\n",
    "result1 = plus(5, 3)\n",
    "result2 = minus(5, 3)\n",
    "print(result1)\n",
    "print(result2)"
   ]
  },
  {
   "cell_type": "code",
   "execution_count": 37,
   "metadata": {},
   "outputs": [
    {
     "name": "stdout",
     "output_type": "stream",
     "text": [
      "10\n",
      "55\n"
     ]
    }
   ],
   "source": [
    "#1 이상의 정수 N을 입력받은 후 1 ~ N 까지의 합을 구하는 함수 작성\n",
    "\n",
    "# 코드 작성\n",
    "# 1 ~ 10 까지의 range() 함수 사용 예) range(1, 11)\n",
    "\n",
    "def sum(b):\n",
    "    total = 0\n",
    "    for i in range(1,int(b)+1):\n",
    "        total = total + i \n",
    "        \n",
    "    return total \n",
    "        \n",
    "    \n",
    "\n",
    "num = input() # 문자열\n",
    "    \n",
    "#result = sum(1,10)\n",
    "print(sum(num))\n",
    "        \n",
    "\n"
   ]
  },
  {
   "cell_type": "code",
   "execution_count": 39,
   "metadata": {},
   "outputs": [
    {
     "name": "stdout",
     "output_type": "stream",
     "text": [
      "(30, 7.5)\n"
     ]
    }
   ],
   "source": [
    "def calculator(nums):\n",
    "    \n",
    "#     a = sum(nums)\n",
    "#     b = a/len(nums)\n",
    "#     return a, b\n",
    "    total = 0\n",
    "    for i in nums:\n",
    "        total += i\n",
    "    avg = total / len(nums)\n",
    "    return total, avg \n",
    "\n",
    "result = calculator([3, 7, 9, 11])\n",
    "print(result)"
   ]
  },
  {
   "cell_type": "code",
   "execution_count": 40,
   "metadata": {},
   "outputs": [
    {
     "name": "stdout",
     "output_type": "stream",
     "text": [
      "ggoreb 20 True\n",
      "ggoreb 20 False\n"
     ]
    }
   ],
   "source": [
    "def setInfo(name, age, isPass=True): # 매개변수의 마지막에 위치\n",
    " print(name, age, isPass)\n",
    "setInfo('ggoreb', 20)\n",
    "setInfo('ggoreb', 20, False)"
   ]
  },
  {
   "cell_type": "code",
   "execution_count": 41,
   "metadata": {},
   "outputs": [
    {
     "name": "stdout",
     "output_type": "stream",
     "text": [
      "[<function <lambda> at 0x00000246394A2D38>, <function <lambda> at 0x00000246394A2CA8>]\n",
      "7\n",
      "12\n"
     ]
    }
   ],
   "source": [
    "lambda_list = [ lambda a, b: a + b, lambda a, b: a * b ]\n",
    "print(lambda_list)\n",
    "result1 = lambda_list[0](3, 4)\n",
    "print(result1)\n",
    "result2 = lambda_list[1](3, 4)\n",
    "print(result2)\n"
   ]
  },
  {
   "cell_type": "code",
   "execution_count": 46,
   "metadata": {},
   "outputs": [
    {
     "data": {
      "text/plain": [
       "[<function __main__.<listcomp>.<lambda>(num)>,\n",
       " <function __main__.<listcomp>.<lambda>(num)>,\n",
       " <function __main__.<listcomp>.<lambda>(num)>,\n",
       " <function __main__.<listcomp>.<lambda>(num)>]"
      ]
     },
     "execution_count": 46,
     "metadata": {},
     "output_type": "execute_result"
    }
   ],
   "source": [
    "list = [10, 20, 30, 40]\n",
    "list2 = [ lambda num : num * 2 for i in list]\n",
    "list2"
   ]
  },
  {
   "cell_type": "code",
   "execution_count": 45,
   "metadata": {},
   "outputs": [
    {
     "data": {
      "text/plain": [
       "[20, 40, 60, 80]"
      ]
     },
     "execution_count": 45,
     "metadata": {},
     "output_type": "execute_result"
    }
   ],
   "source": [
    "list = [10, 20, 30, 40]\n",
    "func = lambda num : num * 2\n",
    "func(list[3])\n",
    "list2 = [ func(i) for i in list]\n",
    "list2"
   ]
  },
  {
   "cell_type": "markdown",
   "metadata": {},
   "source": [
    " #### 3개의 숫자를 입력받아 숫자들의 합과 그 숫자들을 제곱한 숫자들의 합의 차이를 계산하는 함수 diff_sum 만들기\n"
   ]
  },
  {
   "cell_type": "code",
   "execution_count": null,
   "metadata": {},
   "outputs": [],
   "source": [
    "\n",
    "def diff_sum(num1,num2,num3):\n",
    "\n",
    "    square_sum = int(num1)**2 + int(num2)**2 + int(num3)**2\n",
    "    sum_all = int(num1) + int(num2) + int(num3)\n",
    "\n",
    "    diff = square_sum - sum_all\n",
    "    \n",
    "    return diff\n",
    "\n",
    "num1 = input()\n",
    "num2 = input()\n",
    "num3 = input()\n",
    "    \n",
    "print(diff_sum(num1,num2,num3))"
   ]
  },
  {
   "cell_type": "markdown",
   "metadata": {},
   "source": [
    "####  다음과 같은 수열이 있을 때 N 번째의 수열의 값을 구하는 get_sequence 함수 만들기\n",
    "\n",
    "1<br>\n",
    "1+(1+2)<br>\n",
    "1+(1+2)+(1+2+3)<br>\n",
    "1+(1+2)+(1+2+3)+(1+2+3+4)<br>\n",
    "⋮<br>\n",
    "1+(1+2)+(1+2+3)+(1+2+3+4)+ +(1+ +n)<br>\n"
   ]
  },
  {
   "cell_type": "code",
   "execution_count": 189,
   "metadata": {},
   "outputs": [
    {
     "data": {
      "text/plain": [
       "10"
      ]
     },
     "execution_count": 189,
     "metadata": {},
     "output_type": "execute_result"
    }
   ],
   "source": [
    " \n",
    "\n",
    "def get_sequence(n):\n",
    "    temp = 0\n",
    "    total = 0\n",
    "    for i in range(n +1):\n",
    "        temp += i\n",
    "        total += temp\n",
    "    return total\n",
    "get_sequence(3)\n",
    "    "
   ]
  },
  {
   "cell_type": "code",
   "execution_count": 195,
   "metadata": {
    "scrolled": true
   },
   "outputs": [
    {
     "name": "stdout",
     "output_type": "stream",
     "text": [
      "35\n"
     ]
    }
   ],
   "source": [
    "#n = 3\n",
    "\n",
    "def get_sequence(n):\n",
    "    \n",
    "    inner_ls = [] #temp\n",
    "    sum_result = [] # total \n",
    "\n",
    "    for i in range(1,n+1):\n",
    "        inner_ls.append(i)\n",
    "        sum_result.append(sum(inner_ls))\n",
    "    \n",
    "        t = sum(sum_result)\n",
    "    return t\n",
    "\n",
    "print(get_sequence(5))\n",
    "    "
   ]
  },
  {
   "cell_type": "markdown",
   "metadata": {},
   "source": [
    " #### 단어 s의 가운데 글자를 반환하는 get_mid_char 함수 만들기\n",
    " 조건 1) functions 와 같은 홀수 길이 단어가 입력되면 가운데 한글자 반환 ex) t <br>\n",
    " 조건 2) python 과 같은 짝수 길이 단어가 입력되면 가운데 두 글자 반환 ex) th"
   ]
  },
  {
   "cell_type": "code",
   "execution_count": 191,
   "metadata": {},
   "outputs": [
    {
     "name": "stdout",
     "output_type": "stream",
     "text": [
      "th\n",
      "t\n"
     ]
    }
   ],
   "source": [
    "def  get_mid_char(s):\n",
    "    \n",
    "    #s = '가나다라마'\n",
    "    \n",
    "    if len(s) % 2 == 1:\n",
    "        m = len(s) // 2\n",
    "        return(s[m])\n",
    "    if len(s) % 2 == 0:\n",
    "        n = len(s) // 2\n",
    "        return(s[n-1:n+1])\n",
    "\n",
    "\n",
    "    # s = 'python'\n",
    "# a = len(s)\n",
    "# b = a//2\n",
    "# s[b-1:b+1]\n",
    "\n",
    "\n",
    "        \n",
    "\n",
    "\n",
    "print(get_mid_char('python'))\n",
    "print(get_mid_char('functions'))\n"
   ]
  },
  {
   "cell_type": "markdown",
   "metadata": {},
   "source": [
    "#### 길이가 N이고, 수박수박수박수... 와 같은 패턴을 유지하는 문자열을 반환하는 print_str 함수 만들기\n",
    "\n",
    "입력 예) 출력 예)<br>\n",
    " n=3 수박수<br>\n",
    " n=4 수박수박<br>\n",
    " n=7 수박수박수박수<br>\n",
    " n=11 수박수박수박수박수박수<br>"
   ]
  },
  {
   "cell_type": "code",
   "execution_count": 196,
   "metadata": {},
   "outputs": [
    {
     "name": "stdout",
     "output_type": "stream",
     "text": [
      "수박수"
     ]
    }
   ],
   "source": [
    "\n",
    "\n",
    "def print_str(n):\n",
    "    for i in range(n):\n",
    "        if (i+1) % 2 == 1:\n",
    "            print('수', end=\"\")\n",
    "        else:\n",
    "            print('박', end=\"\")\n",
    "  \n",
    "   \n",
    "print_str(3)\n",
    "    \n",
    "    \n"
   ]
  },
  {
   "cell_type": "markdown",
   "metadata": {},
   "source": [
    "#### 자연수 N이 주어지면 N의 각 자리수 합을 구해서 반환하는 get_total 함수 만들기\n",
    "\n",
    "입력 예) 출력 예)<br>\n",
    " n=124 7<br>\n",
    " n=79 16<br>\n",
    " n=12345 15<br>\n",
    " n=13579 25<br>\n"
   ]
  },
  {
   "cell_type": "code",
   "execution_count": 175,
   "metadata": {},
   "outputs": [
    {
     "name": "stdout",
     "output_type": "stream",
     "text": [
      "10\n"
     ]
    }
   ],
   "source": [
    "def get_total(n):\n",
    "\n",
    "    total = 0\n",
    "    \n",
    "    while n >0:\n",
    "        n1 = n % 10\n",
    "        n = n //10\n",
    "        total = total + n1 \n",
    "    return total\n",
    "\n",
    "\n",
    "\n",
    "\n",
    "print(get_total(1234))"
   ]
  },
  {
   "cell_type": "code",
   "execution_count": 199,
   "metadata": {},
   "outputs": [
    {
     "name": "stdout",
     "output_type": "stream",
     "text": [
      "10\n"
     ]
    }
   ],
   "source": [
    "def get_total(n):\n",
    "    result = sum([int(i) for i in str(n)])\n",
    "    return result\n",
    "\n",
    "print(get_total(1234))"
   ]
  },
  {
   "cell_type": "markdown",
   "metadata": {},
   "source": [
    "####  실행결과와 같이 출력될 수 있도록 함수 작성\n",
    "    1234   python"
   ]
  },
  {
   "cell_type": "code",
   "execution_count": 210,
   "metadata": {},
   "outputs": [
    {
     "name": "stdout",
     "output_type": "stream",
     "text": [
      "1234python\n"
     ]
    }
   ],
   "source": [
    "text = '' # 전역변수\n",
    "\n",
    "def str_adder(*args):\n",
    "    global text\n",
    "    \n",
    "    for i in args :\n",
    "        text += i\n",
    "        \n",
    "str_adder('1','2','3','4')\n",
    "str_adder('p', 'y', 't', 'h', 'o', 'n') # → python\n",
    "\n",
    "print(text)        "
   ]
  },
  {
   "cell_type": "markdown",
   "metadata": {},
   "source": [
    "### 5보다 큰 수만 필터링하여 돌려주는 함수를 lambda와 List Comprehension을 이용하는 함수로 작성"
   ]
  },
  {
   "cell_type": "code",
   "execution_count": 208,
   "metadata": {},
   "outputs": [
    {
     "name": "stdout",
     "output_type": "stream",
     "text": [
      "[6, 7, 8]\n"
     ]
    }
   ],
   "source": [
    "def myfunc(numbers):\n",
    "    result = []\n",
    "    for number in numbers:\n",
    "         if number > 5:\n",
    "            result.append(number)\n",
    "    return result\n",
    "result = myfunc([2, 3, 4, 5, 6, 7, 8])\n",
    "print(result)"
   ]
  },
  {
   "cell_type": "code",
   "execution_count": 216,
   "metadata": {},
   "outputs": [
    {
     "data": {
      "text/plain": [
       "[6, 7, 8]"
      ]
     },
     "execution_count": 216,
     "metadata": {},
     "output_type": "execute_result"
    }
   ],
   "source": [
    "ns = [2, 3, 4, 5, 6, 7, 8]\n",
    "\n",
    "myfunc = lambda numbers : [number for number in numbers if number >5]\n",
    "\n",
    "myfunc(ns)"
   ]
  }
 ],
 "metadata": {
  "kernelspec": {
   "display_name": "Python 3",
   "language": "python",
   "name": "python3"
  },
  "language_info": {
   "codemirror_mode": {
    "name": "ipython",
    "version": 3
   },
   "file_extension": ".py",
   "mimetype": "text/x-python",
   "name": "python",
   "nbconvert_exporter": "python",
   "pygments_lexer": "ipython3",
   "version": "3.7.4"
  }
 },
 "nbformat": 4,
 "nbformat_minor": 2
}
