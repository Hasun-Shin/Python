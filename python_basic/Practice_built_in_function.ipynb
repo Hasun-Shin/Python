{
 "cells": [
  {
   "cell_type": "markdown",
   "metadata": {},
   "source": [
    "■ 내장함수<br>\n",
    " ● 파이썬 내부에 미리 정의되어 있는 함수<br>\n",
    " ● 외부모듈과는 달리 import 과정없이 사용 가능<br>\n",
    " ex) print(), type(), len(), list(), map(), set(), …<br>\n",
    " ● __builtins__ 속성을 통해서 내장함수 목록 확인 가능"
   ]
  },
  {
   "cell_type": "code",
   "execution_count": 1,
   "metadata": {},
   "outputs": [
    {
     "data": {
      "text/plain": [
       "['ArithmeticError',\n",
       " 'AssertionError',\n",
       " 'AttributeError',\n",
       " 'BaseException',\n",
       " 'BlockingIOError',\n",
       " 'BrokenPipeError',\n",
       " 'BufferError',\n",
       " 'BytesWarning',\n",
       " 'ChildProcessError',\n",
       " 'ConnectionAbortedError',\n",
       " 'ConnectionError',\n",
       " 'ConnectionRefusedError',\n",
       " 'ConnectionResetError',\n",
       " 'DeprecationWarning',\n",
       " 'EOFError',\n",
       " 'Ellipsis',\n",
       " 'EnvironmentError',\n",
       " 'Exception',\n",
       " 'False',\n",
       " 'FileExistsError',\n",
       " 'FileNotFoundError',\n",
       " 'FloatingPointError',\n",
       " 'FutureWarning',\n",
       " 'GeneratorExit',\n",
       " 'IOError',\n",
       " 'ImportError',\n",
       " 'ImportWarning',\n",
       " 'IndentationError',\n",
       " 'IndexError',\n",
       " 'InterruptedError',\n",
       " 'IsADirectoryError',\n",
       " 'KeyError',\n",
       " 'KeyboardInterrupt',\n",
       " 'LookupError',\n",
       " 'MemoryError',\n",
       " 'ModuleNotFoundError',\n",
       " 'NameError',\n",
       " 'None',\n",
       " 'NotADirectoryError',\n",
       " 'NotImplemented',\n",
       " 'NotImplementedError',\n",
       " 'OSError',\n",
       " 'OverflowError',\n",
       " 'PendingDeprecationWarning',\n",
       " 'PermissionError',\n",
       " 'ProcessLookupError',\n",
       " 'RecursionError',\n",
       " 'ReferenceError',\n",
       " 'ResourceWarning',\n",
       " 'RuntimeError',\n",
       " 'RuntimeWarning',\n",
       " 'StopAsyncIteration',\n",
       " 'StopIteration',\n",
       " 'SyntaxError',\n",
       " 'SyntaxWarning',\n",
       " 'SystemError',\n",
       " 'SystemExit',\n",
       " 'TabError',\n",
       " 'TimeoutError',\n",
       " 'True',\n",
       " 'TypeError',\n",
       " 'UnboundLocalError',\n",
       " 'UnicodeDecodeError',\n",
       " 'UnicodeEncodeError',\n",
       " 'UnicodeError',\n",
       " 'UnicodeTranslateError',\n",
       " 'UnicodeWarning',\n",
       " 'UserWarning',\n",
       " 'ValueError',\n",
       " 'Warning',\n",
       " 'WindowsError',\n",
       " 'ZeroDivisionError',\n",
       " '__IPYTHON__',\n",
       " '__build_class__',\n",
       " '__debug__',\n",
       " '__doc__',\n",
       " '__import__',\n",
       " '__loader__',\n",
       " '__name__',\n",
       " '__package__',\n",
       " '__spec__',\n",
       " 'abs',\n",
       " 'all',\n",
       " 'any',\n",
       " 'ascii',\n",
       " 'bin',\n",
       " 'bool',\n",
       " 'breakpoint',\n",
       " 'bytearray',\n",
       " 'bytes',\n",
       " 'callable',\n",
       " 'chr',\n",
       " 'classmethod',\n",
       " 'compile',\n",
       " 'complex',\n",
       " 'copyright',\n",
       " 'credits',\n",
       " 'delattr',\n",
       " 'dict',\n",
       " 'dir',\n",
       " 'display',\n",
       " 'divmod',\n",
       " 'enumerate',\n",
       " 'eval',\n",
       " 'exec',\n",
       " 'filter',\n",
       " 'float',\n",
       " 'format',\n",
       " 'frozenset',\n",
       " 'get_ipython',\n",
       " 'getattr',\n",
       " 'globals',\n",
       " 'hasattr',\n",
       " 'hash',\n",
       " 'help',\n",
       " 'hex',\n",
       " 'id',\n",
       " 'input',\n",
       " 'int',\n",
       " 'isinstance',\n",
       " 'issubclass',\n",
       " 'iter',\n",
       " 'len',\n",
       " 'license',\n",
       " 'list',\n",
       " 'locals',\n",
       " 'map',\n",
       " 'max',\n",
       " 'memoryview',\n",
       " 'min',\n",
       " 'next',\n",
       " 'object',\n",
       " 'oct',\n",
       " 'open',\n",
       " 'ord',\n",
       " 'pow',\n",
       " 'print',\n",
       " 'property',\n",
       " 'range',\n",
       " 'repr',\n",
       " 'reversed',\n",
       " 'round',\n",
       " 'set',\n",
       " 'setattr',\n",
       " 'slice',\n",
       " 'sorted',\n",
       " 'staticmethod',\n",
       " 'str',\n",
       " 'sum',\n",
       " 'super',\n",
       " 'tuple',\n",
       " 'type',\n",
       " 'vars',\n",
       " 'zip']"
      ]
     },
     "execution_count": 1,
     "metadata": {},
     "output_type": "execute_result"
    }
   ],
   "source": [
    "#활용 가능한 내장 함수들 \n",
    "dir(__builtins__)"
   ]
  },
  {
   "cell_type": "code",
   "execution_count": 8,
   "metadata": {
    "scrolled": true
   },
   "outputs": [
    {
     "name": "stdout",
     "output_type": "stream",
     "text": [
      "dx: 4 dy: 2\n"
     ]
    }
   ],
   "source": [
    "def distance(start, end):\n",
    "    dx = abs(start[0] - end[0])\n",
    "    dy = abs(start[1] - end[1])\n",
    "    return dx, dy\n",
    "    \n",
    " # 코드 작성\n",
    "start = (1, 1)\n",
    "end = (5, 3)\n",
    "dx, dy = distance(start, end)\n",
    "print('dx:', dx, 'dy:', dy)\n",
    "    \n",
    "    \n"
   ]
  },
  {
   "cell_type": "code",
   "execution_count": 5,
   "metadata": {
    "scrolled": false
   },
   "outputs": [
    {
     "data": {
      "text/plain": [
       "1"
      ]
     },
     "execution_count": 5,
     "metadata": {},
     "output_type": "execute_result"
    }
   ],
   "source": [
    "start = (1,1)\n",
    "start[0]"
   ]
  },
  {
   "cell_type": "code",
   "execution_count": 12,
   "metadata": {
    "scrolled": false
   },
   "outputs": [
    {
     "name": "stdout",
     "output_type": "stream",
     "text": [
      "컴파일 언어가 아닌 것은?\n",
      "1. C 2. C# 3. Python 4. swift => 1\n",
      "컴퓨터 장치가 아닌 것은?\n",
      "2. HDD 2. SDD 3. RAM 4. CPU => 2\n",
      "파이썬의 자료형이 아닌 것은?\n",
      "3. str 2. tuple 3. list 4. Map => 3\n",
      "제출 완료\n"
     ]
    }
   ],
   "source": [
    "print('컴파일 언어가 아닌 것은?')\n",
    "answer1 = input('1. C 2. C# 3. Python 4. swift => ')\n",
    "print('컴퓨터 장치가 아닌 것은?')\n",
    "answer2 = input('2. HDD 2. SDD 3. RAM 4. CPU => ')\n",
    "print('파이썬의 자료형이 아닌 것은?')\n",
    "answer3 = input('3. str 2. tuple 3. list 4. Map => ')\n",
    "answer_list = list()\n",
    "answer_list.append(answer1)\n",
    "answer_list.append(answer2)\n",
    "answer_list.append(answer3)\n",
    "# 코드 작성\n",
    "\n",
    "\n",
    "if all(answer_list):\n",
    "    print('제출 완료')\n",
    "else:\n",
    "    print('재입력')\n"
   ]
  },
  {
   "cell_type": "code",
   "execution_count": 13,
   "metadata": {},
   "outputs": [
    {
     "name": "stdout",
     "output_type": "stream",
     "text": [
      "몫 7\n",
      "나머지 11\n"
     ]
    }
   ],
   "source": [
    "a = 123\n",
    "b = 16\n",
    "# 코드 작성\n",
    "c = divmod(123, 16)\n",
    "quotient = c[0]\n",
    "remainder = c[1]\n",
    "\n",
    "\n",
    "print('몫', quotient)\n",
    "print('나머지', remainder)"
   ]
  },
  {
   "cell_type": "code",
   "execution_count": 6,
   "metadata": {
    "scrolled": false
   },
   "outputs": [
    {
     "name": "stdout",
     "output_type": "stream",
     "text": [
      "{1: 'a', 2: 'b', 3: 'c', 4: 'd', 5: 'e', 6: 'f', 7: 'g'}\n"
     ]
    }
   ],
   "source": [
    "char_list = ['a', 'b', 'c', 'd', 'e', 'f', 'g']\n",
    "char_dict = {}\n",
    "# 코드 작성\n",
    "\n",
    "for idx, elem in enumerate(char_list):\n",
    "    char_dict[idx+1] = elem\n",
    "\n",
    "    \n",
    "print(char_dict)"
   ]
  },
  {
   "cell_type": "markdown",
   "metadata": {},
   "source": [
    "filter()\n",
    " - 참, 거짓을 반환하는 함수와 반복 가능한(iterable) 자료를 입력받은 후\n",
    " 참인 값만 찾은 후 돌려주는 함수\n"
   ]
  },
  {
   "cell_type": "code",
   "execution_count": 31,
   "metadata": {},
   "outputs": [
    {
     "name": "stdout",
     "output_type": "stream",
     "text": [
      "[2, 4, 6]\n",
      "(2, 4, 6)\n",
      "{2, 4, 6}\n",
      "[2, 4, 6]\n"
     ]
    }
   ],
   "source": [
    "def even(n):\n",
    "    return n % 2 == 0\n",
    "print( list( filter( even, (1, 2, 3, 4, 5, 6) ) ) )\n",
    "print( tuple( filter( even, (1, 2, 3, 4, 5, 6) ) ) )\n",
    "print( set( filter( even, (1, 2, 3, 4, 5, 6) ) ) )\n",
    "print( list( filter( lambda n: n % 2 == 0, (1, 2, 3, 4, 5, 6) )))"
   ]
  },
  {
   "cell_type": "code",
   "execution_count": 32,
   "metadata": {
    "scrolled": true
   },
   "outputs": [
    {
     "name": "stdout",
     "output_type": "stream",
     "text": [
      "[1, 3, 8]\n"
     ]
    }
   ],
   "source": [
    "num_list = [1, -2, 3, -5, 8, -3]\n",
    "# 코드 작성\n",
    "print( list(filter(lambda n: n>0, num_list)))"
   ]
  },
  {
   "cell_type": "code",
   "execution_count": 33,
   "metadata": {
    "scrolled": true
   },
   "outputs": [
    {
     "name": "stdout",
     "output_type": "stream",
     "text": [
      "[1, 2, 4, 5, 7, 8, 10, 11, 13, 14, 16, 17, 19, 20]\n"
     ]
    }
   ],
   "source": [
    "num_list = range(1, 21)\n",
    "\n",
    "print( list(filter(lambda n : n % 3 !=0, num_list)))"
   ]
  },
  {
   "cell_type": "markdown",
   "metadata": {},
   "source": [
    "hex : 정수를 16진수로 바꿈"
   ]
  },
  {
   "cell_type": "code",
   "execution_count": 34,
   "metadata": {
    "scrolled": true
   },
   "outputs": [
    {
     "name": "stdout",
     "output_type": "stream",
     "text": [
      "0xbe 0x42 0xcd\n"
     ]
    }
   ],
   "source": [
    "red = 190\n",
    "green = 66\n",
    "blue = 205\n",
    "# 코드 작성\n",
    "r = hex(red)\n",
    "g = hex(green)\n",
    "b = hex(blue)\n",
    "\n",
    "print(r, g, b)"
   ]
  },
  {
   "cell_type": "code",
   "execution_count": 46,
   "metadata": {
    "scrolled": true
   },
   "outputs": [
    {
     "name": "stdout",
     "output_type": "stream",
     "text": [
      "HELLO\n",
      "GGOREB\n"
     ]
    }
   ],
   "source": [
    "hexa_string1 = '48 45 4C 4C 4F'\n",
    "hexa_string2 = '47 47 4F 52 45 42'\n",
    "def show_hex_to_ch(hexa_string):\n",
    "    one = hexa_string.split(' ')\n",
    "    for one_ch in one:\n",
    "        print(chr(int(one_ch, 16)),end='')\n",
    "    print()\n",
    "        \n",
    " \n",
    "show_hex_to_ch(hexa_string1)\n",
    "show_hex_to_ch(hexa_string2)"
   ]
  },
  {
   "cell_type": "markdown",
   "metadata": {},
   "source": [
    "values 리스트 변수에 저장되어 있는 요소 중 모든 정수(int)와 실수(float)의 합 구하기\n",
    "\n",
    "주의 : bool 형식도 int 의 자식이다. \n",
    "그러므로 bool 은 제외해야 한다. "
   ]
  },
  {
   "cell_type": "code",
   "execution_count": 48,
   "metadata": {
    "scrolled": true
   },
   "outputs": [
    {
     "name": "stdout",
     "output_type": "stream",
     "text": [
      "28.04\n"
     ]
    }
   ],
   "source": [
    "values = [10, 'a', True, {}, [], -4, 23.24, (1,), -1.2]\n",
    "result = 0\n",
    "\n",
    "for i in values:\n",
    "    if not isinstance(i,bool) and isinstance(i,int) ==True or isinstance(i,float) == True:\n",
    "        result = result + i\n",
    "        \n",
    "\n",
    "print(result) # 29.04"
   ]
  },
  {
   "cell_type": "markdown",
   "metadata": {},
   "source": [
    "map 함수<br>\n",
    "입력된 값에 연산결과를 반영하여 반환하는 함수와 반복 가능한(iterable)\n",
    " 자료를 입력받은 후 함수 결과값들을 묶어서 돌려주는 함수"
   ]
  },
  {
   "cell_type": "code",
   "execution_count": 53,
   "metadata": {},
   "outputs": [
    {
     "data": {
      "text/plain": [
       "[2, 4, 6, 8]"
      ]
     },
     "execution_count": 53,
     "metadata": {},
     "output_type": "execute_result"
    }
   ],
   "source": [
    " def two_times(x): return x * 2\n",
    "list(map(two_times, [1, 2, 3, 4]))\n",
    "list(map(lambda x: x * 2, [1, 2, 3, 4]))"
   ]
  },
  {
   "cell_type": "code",
   "execution_count": 56,
   "metadata": {},
   "outputs": [
    {
     "data": {
      "text/plain": [
       "[3, 6, 9, 12]"
      ]
     },
     "execution_count": 56,
     "metadata": {},
     "output_type": "execute_result"
    }
   ],
   "source": [
    "num_list = [1, 2, 3, 4]\n",
    "\n",
    "map1 = list(map(lambda x : x * 3, num_list))\n",
    "map1"
   ]
  },
  {
   "cell_type": "code",
   "execution_count": 57,
   "metadata": {
    "scrolled": true
   },
   "outputs": [
    {
     "data": {
      "text/plain": [
       "[3, 6, 9, 12]"
      ]
     },
     "execution_count": 57,
     "metadata": {},
     "output_type": "execute_result"
    }
   ],
   "source": [
    "def three_times(x) : return x * 3\n",
    "list(map(three_times, num_list))"
   ]
  },
  {
   "cell_type": "code",
   "execution_count": 71,
   "metadata": {
    "scrolled": true
   },
   "outputs": [
    {
     "ename": "SyntaxError",
     "evalue": "positional argument follows keyword argument (<ipython-input-71-b77b8e86ef75>, line 4)",
     "output_type": "error",
     "traceback": [
      "\u001b[1;36m  File \u001b[1;32m\"<ipython-input-71-b77b8e86ef75>\"\u001b[1;36m, line \u001b[1;32m4\u001b[0m\n\u001b[1;33m    map2 = list(map(lambda x ,y : x ** 2 , y = x+1, num_list))\u001b[0m\n\u001b[1;37m                                                   ^\u001b[0m\n\u001b[1;31mSyntaxError\u001b[0m\u001b[1;31m:\u001b[0m positional argument follows keyword argument\n"
     ]
    }
   ],
   "source": [
    "num_list = [1, 2, 3, 4]\n",
    "\n",
    "for i in range(num_list):\n",
    "    \n",
    "    pow(i,a)\n",
    "\n",
    "map2 = list(map(lambda x ,y : x ** 2 , y = x+1, num_list))\n",
    "map2"
   ]
  },
  {
   "cell_type": "code",
   "execution_count": null,
   "metadata": {},
   "outputs": [],
   "source": [
    "# def pow_times(x):\n",
    "#     for i in range\n",
    "#     num = 2\n",
    "#     x ** num\n",
    "    "
   ]
  },
  {
   "cell_type": "code",
   "execution_count": 66,
   "metadata": {},
   "outputs": [
    {
     "name": "stdout",
     "output_type": "stream",
     "text": [
      "7 -8 9\n"
     ]
    }
   ],
   "source": [
    "num_list = [-8, 2, 7, 5, -3, 5, 0, 1]\n",
    "print(max(num_list), min(num_list), sum(num_list))"
   ]
  },
  {
   "cell_type": "code",
   "execution_count": 90,
   "metadata": {
    "scrolled": false
   },
   "outputs": [
    {
     "name": "stdout",
     "output_type": "stream",
     "text": [
      "65 83 67 73 73 32 84 65 66 76 69 \n",
      "80 89 84 72 79 78 \n"
     ]
    }
   ],
   "source": [
    "string1 = 'ASCII TABLE'\n",
    "string2 = 'PYTHON'\n",
    "def show_ch_to_ascii(string):\n",
    "    \n",
    "    \n",
    "    for str in string :\n",
    "        print(ord(str), end = ' ')\n",
    "        \n",
    "    print()\n",
    "show_ch_to_ascii(string1)\n",
    "show_ch_to_ascii(string2)"
   ]
  },
  {
   "cell_type": "markdown",
   "metadata": {},
   "source": [
    "sorted()\n",
    " - 반복 가능한 자료형을 입력받아 오름차순 정렬된 **리스트를 돌려주는** 함수"
   ]
  },
  {
   "cell_type": "code",
   "execution_count": 91,
   "metadata": {},
   "outputs": [
    {
     "data": {
      "text/plain": [
       "['a', 'b', 'r', 'y', 'z']"
      ]
     },
     "execution_count": 91,
     "metadata": {},
     "output_type": "execute_result"
    }
   ],
   "source": [
    "sorted(('z', 'y', 'r', 'a', 'b'))\n"
   ]
  },
  {
   "cell_type": "code",
   "execution_count": 94,
   "metadata": {},
   "outputs": [
    {
     "name": "stdout",
     "output_type": "stream",
     "text": [
      "[('d', 1), ('c', 5), ('a', 10), ('b', 12)]\n"
     ]
    }
   ],
   "source": [
    "#Dictionary의 value를 정렬 기준으로 속성 지정\n",
    "\n",
    "import operator\n",
    "d = {'a':10, 'c':5, 'b':12, 'd':1}\n",
    "d = sorted(d.items(), key=operator. itemgetter(1))\n",
    "print(d)"
   ]
  },
  {
   "cell_type": "markdown",
   "metadata": {},
   "source": [
    "● zip()\n",
    " - 반복 가능한 자료형 묶음별 요소들을 각 순번에 맞춰\n",
    " 튜플로 묶어진 리스트를 돌려주는 함수"
   ]
  },
  {
   "cell_type": "code",
   "execution_count": 104,
   "metadata": {},
   "outputs": [
    {
     "name": "stdout",
     "output_type": "stream",
     "text": [
      "1 : 4\n",
      "2 : 5\n",
      "3 : 6\n"
     ]
    }
   ],
   "source": [
    " a = list(zip([1, 2, 3], [4, 5, 6]))\n",
    "\n",
    "for a,b in a:\n",
    "    print(a,':',b)\n",
    "    \n"
   ]
  },
  {
   "cell_type": "code",
   "execution_count": 107,
   "metadata": {},
   "outputs": [
    {
     "data": {
      "text/plain": [
       "[(1,), (2,), (3,)]"
      ]
     },
     "execution_count": 107,
     "metadata": {},
     "output_type": "execute_result"
    }
   ],
   "source": [
    "list(zip([1, 2, 3], (4, 5, 6), {7, 8, 9}, [10, 11, 12]))\n",
    "list(zip([1, 2, 3]))\n"
   ]
  },
  {
   "cell_type": "code",
   "execution_count": 111,
   "metadata": {},
   "outputs": [
    {
     "data": {
      "text/plain": [
       "[(1, 'a', '가'), (2, 'b', '나'), (3, 'c', '다'), (4, 'd', '라')]"
      ]
     },
     "execution_count": 111,
     "metadata": {},
     "output_type": "execute_result"
    }
   ],
   "source": [
    "list1 = [1, 2, 3, 4]\n",
    "list2 = ['a', 'b', 'c', 'd']\n",
    "list3 = ['가', '나', '다', '라']\n",
    "\n",
    "list(zip(list1,list2,list3))\n"
   ]
  }
 ],
 "metadata": {
  "kernelspec": {
   "display_name": "Python 3",
   "language": "python",
   "name": "python3"
  },
  "language_info": {
   "codemirror_mode": {
    "name": "ipython",
    "version": 3
   },
   "file_extension": ".py",
   "mimetype": "text/x-python",
   "name": "python",
   "nbconvert_exporter": "python",
   "pygments_lexer": "ipython3",
   "version": "3.7.4"
  }
 },
 "nbformat": 4,
 "nbformat_minor": 2
}
