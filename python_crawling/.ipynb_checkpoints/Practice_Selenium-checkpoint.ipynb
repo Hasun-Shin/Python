{
 "cells": [
  {
   "cell_type": "markdown",
   "metadata": {},
   "source": [
    " ### Selenium<br>\n",
    " ● 브라우저 자동화 라이브러리<br>\n",
    " ● 브라우저를 제어 할 수 있는 웹 드라이버를 통해 매크로와 같은 기능 사용<br>\n",
    " ● 지원 브라우저 : Chrome, Fire Fox, Edge, Safari 등<br>\n",
    " ● 지원 언어 : Python, Java, C#, JavaScript 등<br>\n",
    " ● 반드시 사용해야 하는 경우<br>\n",
    " - 자바스크립트를 통해 웹 페이지의 내용을 동적으로 생성하는 사이트<br>\n",
    " - 프로그래밍 언어의 코드를 이용한 접속이 아닌 실제 브라우저를 통해서만<br>\n",
    " 접속을 허용하는 사이트<br>\n",
    " ex) 네이버 뿜 : http://m.bboom.naver.com<br>\n",
    " 리니지M 공지사항 : https://lineagem.plaync.com/board/notice/list <br>\n",
    " \n",
    " \n",
    " \n",
    " 1. 파이썬 라이브러리 셀레니움 설치 \n",
    " 2. 사용할 브라우저의 드라이버 "
   ]
  },
  {
   "cell_type": "code",
   "execution_count": null,
   "metadata": {},
   "outputs": [],
   "source": [
    "import requests\n",
    "from bs4 import BeautifulSoup\n",
    "result = requests.get('http://ggoreb.com/http/wait.jsp')\n",
    "soup = BeautifulSoup(result.text, 'html.parser')\n",
    "print(len(soup.find_all('p'))) # → 0"
   ]
  },
  {
   "cell_type": "code",
   "execution_count": null,
   "metadata": {},
   "outputs": [],
   "source": [
    "import requests\n",
    "from bs4 import BeautifulSoup\n",
    "from selenium import webdriver as wd\n",
    "driver = wd.Chrome(executable_path='chromedriver.exe')\n",
    "driver.get('http://ggoreb.com/http/wait.jsp')\n",
    "\n",
    "driver.find_element_by_css_selector('p:nth-of-type(1)').text\n",
    "\n",
    "\n",
    "# print(driver.find_elements_by_tag_name('p'))\n",
    "# print(driver.find_elements_by_tag_name('p')[2].text)"
   ]
  },
  {
   "cell_type": "code",
   "execution_count": null,
   "metadata": {},
   "outputs": [],
   "source": [
    "import requests\n",
    "from bs4 import BeautifulSoup\n",
    "from selenium import webdriver as wd\n",
    "driver = wd.Chrome(executable_path='chromedriver.exe')\n",
    "driver.get('http://ggoreb.com/http/wait.jsp')\n",
    "\n",
    "driver.find_element_by_css_selector('p:nth-of-child(4)').text"
   ]
  },
  {
   "cell_type": "markdown",
   "metadata": {},
   "source": [
    "### wait-explicit\n",
    "\n",
    "- 지정된 요소가 발견될 때까지 대기\n",
    " - 지정된 시간을 초과하는 경우 예외 발생"
   ]
  },
  {
   "cell_type": "code",
   "execution_count": null,
   "metadata": {},
   "outputs": [],
   "source": [
    "from selenium.webdriver.common.by import By\n",
    "from selenium.webdriver.support.ui import WebDriverWait\n",
    "from selenium.webdriver.support import expected_conditions as EC"
   ]
  },
  {
   "cell_type": "code",
   "execution_count": null,
   "metadata": {},
   "outputs": [],
   "source": [
    "try :\n",
    " element = WebDriverWait(driver, 10).until(\n",
    " EC.presence_of_element_located((By.CSS_SELECTOR, 'p:nth-of-type(2)'))\n",
    " )\n",
    " print(driver.find_elements_by_tag_name('p')[1].text)\n",
    "except Exception as e:\n",
    " print('오류 발생', e)\n"
   ]
  },
  {
   "cell_type": "markdown",
   "metadata": {},
   "source": [
    "## wait-implicit\n",
    "\n",
    "- 브라우저에 기본 요소(DOM)가 다 로드될 때까지 대기\n",
    " - 지정된 시간보다 일찍 로드가 된 경우 먼저 진행\n",
    " - 지정된 시간을 초과해도 모든 요소가 로드될 때까지 대기\n"
   ]
  },
  {
   "cell_type": "markdown",
   "metadata": {},
   "source": [
    "## 요소 제어 – send_keys() / click()\n",
    " - 아이디 / 비밀번호 / 검색어 등 데이터 입력 – send_keys()\n",
    " - 버튼 등 요소 클릭 - click()"
   ]
  },
  {
   "cell_type": "code",
   "execution_count": null,
   "metadata": {
    "scrolled": true
   },
   "outputs": [],
   "source": [
    "\n",
    "from selenium import webdriver as wd\n",
    "driver = wd.Chrome(executable_path='chromedriver.exe')\n",
    "driver.get('http://ggoreb.com/http/control.jsp')\n",
    "\n",
    "driver.find_element_by_tag_name('input').send_keys('파이썬')\n",
    "#driver.find_element_by_tag_name('button').click()\n",
    "    \n",
    "    "
   ]
  },
  {
   "cell_type": "code",
   "execution_count": null,
   "metadata": {},
   "outputs": [],
   "source": [
    "driver.execute_script('alert(\"hello\")')\n",
    "alert = driver.switch_to.alert\n",
    "alert.accept()"
   ]
  },
  {
   "cell_type": "markdown",
   "metadata": {},
   "source": [
    "### PhantomJS\n",
    "\n",
    "용량을 적게 차지한다.\n",
    "안 보이기 때문에 작업관리자 - 삭제 를 한다. "
   ]
  },
  {
   "cell_type": "code",
   "execution_count": null,
   "metadata": {
    "scrolled": true
   },
   "outputs": [],
   "source": [
    "from selenium import webdriver as wd\n",
    "driver = wd.PhantomJS(executable_path='phantomjs.exe')\n",
    "driver.get('https://finance.naver.com/')\n",
    "\n",
    "driver.find_element_by_id('stock_items').send_keys('멀티캠퍼스')\n",
    "driver.find_element_by_css_selector('#header > div.snb_area > div > div.sta > form > fieldset > div > button').click()\n",
    "\n",
    "driver.implicitly_wait(10)\n",
    "\n",
    "table = driver.find_elements_by_css_selector('#tab_con1 > div.first > table > tbody > tr > td')\n",
    "for tr in table:\n",
    "    print(tr.text)\n",
    "    \n",
    "driver.close()"
   ]
  },
  {
   "cell_type": "code",
   "execution_count": null,
   "metadata": {},
   "outputs": [],
   "source": [
    "from selenium import webdriver as wd\n",
    "driver = wd.Chrome(executable_path='chromedriver.exe')\n",
    "driver.get('https://finance.naver.com/')\n",
    "\n",
    "driver.find_element_by_tag_name('#stock_items').send_keys('멀티캠퍼스')\n",
    "driver.find_element_by_css_selector('#header > div.snb_area > div > div.sta > form > fieldset > div > button').click()\n",
    "\n",
    "driver.implicitly_wait(10)\n",
    "\n",
    "table = driver.find_elements_by_css_selector('#tab_con1 > div.first > table > tbody > tr > td')\n",
    "for tr in table:\n",
    "    print(tr.text)\n",
    "    \n",
    "driver.close()"
   ]
  },
  {
   "cell_type": "code",
   "execution_count": null,
   "metadata": {},
   "outputs": [],
   "source": [
    "\n",
    "\n",
    "import requests\n",
    "from bs4 import BeautifulSoup\n",
    "from selenium import webdriver as wd\n",
    "driver = wd.Chrome(executable_path='chromedriver.exe')\n",
    "driver.get('http://ggoreb.com/http/control2.jsp')\n",
    "\n",
    "driver.find_element_by_name('no').send_keys('서울')\n",
    "\n",
    "drever.close()"
   ]
  },
  {
   "cell_type": "markdown",
   "metadata": {},
   "source": [
    "### 인터파크"
   ]
  },
  {
   "cell_type": "code",
   "execution_count": null,
   "metadata": {
    "scrolled": true
   },
   "outputs": [],
   "source": [
    "from selenium import webdriver as wd\n",
    "driver = wd.Chrome(executable_path='chromedriver.exe')\n",
    "driver.get('http://tour.interpark.com')\n",
    "\n",
    "driver.find_element_by_tag_name('#SearchGNBText').send_keys('달랏')\n",
    "driver.find_element_by_css_selector('#dHead > div.tour-header > div.search-area > form > fieldset > button.search-btn').click()\n",
    "driver.find_element_by_css_selector('body > div.container > div > div > div.panelZone > div.oTravelBox > ul > li.moreBtnWrap > button').click()\n",
    "\n",
    "driver.implicitly_wait(10)\n",
    "\n",
    "\n",
    "\n",
    "# table = driver.find_elements_by_css_selector('#tab_con1 > div.first > table > tbody > tr > td')\n",
    "# for tr in table:\n",
    "#     print(tr.text)\n",
    "    \n",
    "# driver.close()"
   ]
  },
  {
   "cell_type": "code",
   "execution_count": null,
   "metadata": {
    "scrolled": true
   },
   "outputs": [],
   "source": [
    "imgs = driver.find_elements_by_css_selector('body > div.container > div > div > div.panelZone > div.oTravelBox > ul > li > a > img')\n",
    "for img in imgs:\n",
    "    val = img.get_attribute(\"src\")\n",
    "    \n",
    "    print(val)\n",
    "    \n",
    "   "
   ]
  },
  {
   "cell_type": "code",
   "execution_count": null,
   "metadata": {},
   "outputs": [],
   "source": [
    "links = driver.find_elements_by_css_selector('body > div.container > div > div > div.panelZone > div.oTravelBox > ul > li > div > div.title-row > div:nth-child(1) > h5' )\n",
    "                                            \n",
    "\n",
    "for link in links:\n",
    "    val = link.get_attribute(\"onclick\")\n",
    "    \n",
    "    print(val)"
   ]
  },
  {
   "cell_type": "code",
   "execution_count": null,
   "metadata": {
    "scrolled": true
   },
   "outputs": [],
   "source": [
    "titles = driver.find_elements_by_css_selector('body > div.container > div > div > div.panelZone > div.oTravelBox > ul > li > div > div.title-row > div:nth-child(1) > h5')\n",
    "\n",
    "\n",
    "for title in titles:\n",
    "    print(title.text)\n"
   ]
  },
  {
   "cell_type": "code",
   "execution_count": null,
   "metadata": {
    "scrolled": true
   },
   "outputs": [],
   "source": [
    "extras = driver.find_elements_by_css_selector('body > div.container > div > div > div.panelZone > div.oTravelBox > ul > li > div > div.title-row > div:nth-child(1) > p')\n",
    "\n",
    "for extra in extras:\n",
    "    print(extra.text)\n"
   ]
  },
  {
   "cell_type": "code",
   "execution_count": null,
   "metadata": {},
   "outputs": [],
   "source": [
    "costs = driver.find_elements_by_css_selector('body > div.container > div > div > div.panelZone > div.oTravelBox > ul > li > div > div.title-row > div:nth-child(2) > strong')\n",
    "\n",
    "for cost in costs:\n",
    "    print(cost.text)"
   ]
  },
  {
   "cell_type": "code",
   "execution_count": null,
   "metadata": {},
   "outputs": [],
   "source": [
    "dates = driver.find_elements_by_css_selector('body > div.container > div > div > div.panelZone > div.oTravelBox > ul > li > div > div.info-row > div:nth-child(1) > p:nth-child(1)')\n",
    "\n",
    "\n",
    "for date in dates:\n",
    "    print(date.text)\n"
   ]
  },
  {
   "cell_type": "code",
   "execution_count": null,
   "metadata": {},
   "outputs": [],
   "source": [
    "departures = driver.find_elements_by_css_selector('body > div.container > div > div > div.panelZone > div.oTravelBox > ul > li > div > div.info-row > div:nth-child(1) > p:nth-child(2)')\n",
    "\n",
    "for departure in departures:\n",
    "    print(departure.text)"
   ]
  },
  {
   "cell_type": "code",
   "execution_count": null,
   "metadata": {},
   "outputs": [],
   "source": [
    "rates= driver.find_elements_by_css_selector('body > div.container > div > div > div.panelZone > div.oTravelBox > ul > li > div > div.info-row > div:nth-child(2) > p:nth-child(2)')\n",
    "\n",
    "for rate in rates:\n",
    "    print(rate.text)"
   ]
  },
  {
   "cell_type": "code",
   "execution_count": null,
   "metadata": {},
   "outputs": [],
   "source": [
    "comments = driver.find_elements_by_css_selector('body > div.container > div > div > div.panelZone > div.oTravelBox > ul > li > div > div.info-row > div:nth-child(2) > p:nth-child(3)')\n",
    "                                                \n",
    "for comment in comments:\n",
    "    print(comment.text)"
   ]
  },
  {
   "cell_type": "code",
   "execution_count": null,
   "metadata": {},
   "outputs": [],
   "source": [
    "\n",
    "# 페이지 넘기기\n",
    "page = 1\n",
    "\n",
    "driver.find_elements_by_xpath('/html/body/div[3]/div/div/div[5]/div[4]/ul/li[%d]'%page).click()\n",
    "page=page+1\n",
    "\n",
    "\n",
    "\n",
    "\n"
   ]
  }
 ],
 "metadata": {
  "kernelspec": {
   "display_name": "Python 3",
   "language": "python",
   "name": "python3"
  },
  "language_info": {
   "codemirror_mode": {
    "name": "ipython",
    "version": 3
   },
   "file_extension": ".py",
   "mimetype": "text/x-python",
   "name": "python",
   "nbconvert_exporter": "python",
   "pygments_lexer": "ipython3",
   "version": "3.7.4"
  }
 },
 "nbformat": 4,
 "nbformat_minor": 2
}
