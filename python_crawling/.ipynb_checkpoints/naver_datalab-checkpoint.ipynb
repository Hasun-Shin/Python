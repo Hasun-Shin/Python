{
 "cells": [
  {
   "cell_type": "markdown",
   "metadata": {},
   "source": [
    "## 셀레니움을 이용하여 네이버의 급상승 검색어 웹페이지에서 1위에서 20위까지 검색어 확인하는 파이썬 코드를 작성하시오."
   ]
  },
  {
   "cell_type": "code",
   "execution_count": 9,
   "metadata": {},
   "outputs": [],
   "source": [
    "def datalab():\n",
    "    \n",
    "    from selenium.webdriver.common.by import By\n",
    "    from selenium.webdriver.support.ui import WebDriverWait\n",
    "    from selenium.webdriver.support import expected_conditions as E\n",
    "    from selenium import webdriver as wd\n",
    "    import time\n",
    "\n",
    "    driver = wd.Chrome(executable_path='chromedriver.exe')\n",
    "    driver.get('https://datalab.naver.com/keyword/realtimeList.naver')\n",
    "\n",
    "    \n",
    "    \n",
    "\n",
    "    \n",
    "    \n",
    "    \n",
    "   \n",
    "\n",
    "    titles = driver.find_elements_by_css_selector('#content > div > div.selection_area > div.selection_content > div.field_list > div')\n",
    "    for title in titles:\n",
    "        print(title.text.replace('\\n',' '), end = '')\n",
    "        print(title.text)\n",
    "        \n",
    "\n",
    "           \n",
    "\n",
    "        \n",
    "\n",
    "        \n"
   ]
  },
  {
   "cell_type": "code",
   "execution_count": 10,
   "metadata": {},
   "outputs": [
    {
     "name": "stdout",
     "output_type": "stream",
     "text": [
      "1 김신영 2 나노메딕스 국일제지 3 써니 4 개리 아내 5 마니커 6 토트넘 맨시티 손흥민 골, 손흥민 7 중국증시 8 하나은행 비대면계좌 9 강원대학교 강원대 10 에코프로비엠 11 이은영 12 이지영 13 태국 코로나 바이러스 14 선우은숙 15 사랑의 불시착 12회 16 두번째 스무살 17 명지대학교 명지대 18 베르흐베인 19 탐정 홍길동: 사라진 마을 20 조류독감\n",
      "1\n",
      "김신영\n",
      "2\n",
      "나노메딕스 국일제지\n",
      "3\n",
      "써니\n",
      "4\n",
      "개리 아내\n",
      "5\n",
      "마니커\n",
      "6\n",
      "토트넘 맨시티 손흥민 골, 손흥민\n",
      "7\n",
      "중국증시\n",
      "8\n",
      "하나은행 비대면계좌\n",
      "9\n",
      "강원대학교 강원대\n",
      "10\n",
      "에코프로비엠\n",
      "11\n",
      "이은영\n",
      "12\n",
      "이지영\n",
      "13\n",
      "태국 코로나 바이러스\n",
      "14\n",
      "선우은숙\n",
      "15\n",
      "사랑의 불시착 12회\n",
      "16\n",
      "두번째 스무살\n",
      "17\n",
      "명지대학교 명지대\n",
      "18\n",
      "베르흐베인\n",
      "19\n",
      "탐정 홍길동: 사라진 마을\n",
      "20\n",
      "조류독감\n"
     ]
    }
   ],
   "source": [
    "datalab()"
   ]
  }
 ],
 "metadata": {
  "kernelspec": {
   "display_name": "Python 3",
   "language": "python",
   "name": "python3"
  },
  "language_info": {
   "codemirror_mode": {
    "name": "ipython",
    "version": 3
   },
   "file_extension": ".py",
   "mimetype": "text/x-python",
   "name": "python",
   "nbconvert_exporter": "python",
   "pygments_lexer": "ipython3",
   "version": "3.7.4"
  }
 },
 "nbformat": 4,
 "nbformat_minor": 2
}
