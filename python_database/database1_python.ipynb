{
 "cells": [
  {
   "cell_type": "markdown",
   "metadata": {},
   "source": [
    "## python 을 이용한 database\n",
    "\n",
    "conda install pymysql  입력"
   ]
  },
  {
   "cell_type": "code",
   "execution_count": 4,
   "metadata": {},
   "outputs": [
    {
     "name": "stdout",
     "output_type": "stream",
     "text": [
      "(1050, \"Table 'mysql' already exists\")\n"
     ]
    }
   ],
   "source": [
    "import pymysql\n",
    "\n",
    "conn = None #전역변수로 conn 변수 생성함. \n",
    "\n",
    "try:\n",
    "    conn = pymysql.connect(\n",
    "        host ='localhost', user='root', password=비밀번호,\n",
    "        db='python', charset='utf8') #데이터베이스 접속\n",
    "\n",
    "    with conn.cursor() as cursor: #Cursor 객체 생성\n",
    "\n",
    "        sql = '''CREATE TABLE mysql (\n",
    "                    id INTEGER PRIMARY KEY AUTO_INCREMENT\n",
    "                    , title VARCHAR(100), content VARCHAR(100))'''\n",
    "\n",
    "        cursor.execute(sql) #sql 실행\n",
    "\n",
    "        conn.commit() # 저장\n",
    "\n",
    "\n",
    "except pymysql.InternalError as e:\n",
    "        \n",
    "    print(e)\n",
    "finally:\n",
    "    if conn:\n",
    "        conn.close() # try 내의 전역변수 "
   ]
  },
  {
   "cell_type": "code",
   "execution_count": 3,
   "metadata": {},
   "outputs": [],
   "source": [
    "import pymysql\n",
    "\n",
    "\n",
    "conn = pymysql.connect(\n",
    "host ='localhost', user='root', password=비밀번호,\n",
    "db='python', charset='utf8') #데이터베이스 접속\n",
    "\n",
    "cursor = conn.cursor() #Cursor 객체 생성\n",
    "\n",
    "sql = '''INSERT INTO mysql (id, title, content)\n",
    "        VALUES (NULL, %s, %s)'''\n",
    "           \n",
    "\n",
    "cursor.execute(sql,('제목A','내용Z')) #sql 실행\n",
    "\n",
    "conn.commit() \n",
    "\n",
    "\n",
    "cursor.close()\n",
    "conn.close() # try 내의 전역변수 "
   ]
  },
  {
   "cell_type": "code",
   "execution_count": 9,
   "metadata": {},
   "outputs": [],
   "source": [
    "import pymysql\n",
    "\n",
    "\n",
    "conn = pymysql.connect(\n",
    "host ='localhost', user='root', password=비밀번호,\n",
    "db='python', charset='utf8') #데이터베이스 접속\n",
    "\n",
    "cursor = conn.cursor() #Cursor 객체 생성\n",
    "\n",
    "sql = '''UPDATE mysql SET title = %s\n",
    "            WHERE id = %s'''\n",
    "           \n",
    "\n",
    "cursor.execute(sql,('제목수정됨',1)) #sql 실행\n",
    "\n",
    "conn.commit() \n",
    "\n",
    "\n",
    "cursor.close()\n",
    "conn.close() # try 내의 전역변수 "
   ]
  },
  {
   "cell_type": "code",
   "execution_count": 8,
   "metadata": {},
   "outputs": [],
   "source": [
    "import pymysql\n",
    "\n",
    "\n",
    "conn = pymysql.connect(\n",
    "host ='localhost', user='root', password=비밀번호,\n",
    "db='python', charset='utf8') #데이터베이스 접속\n",
    "\n",
    "cursor = conn.cursor() #Cursor 객체 생성\n",
    "\n",
    "sql = '''DELETE FROM MYSQL\n",
    "            WHERE id = %s'''\n",
    "           \n",
    "\n",
    "cursor.execute(sql,(2)) #sql 실행\n",
    "\n",
    "conn.commit() \n",
    "\n",
    "\n",
    "cursor.close()\n",
    "conn.close() # try 내의 전역변수 "
   ]
  },
  {
   "cell_type": "code",
   "execution_count": 16,
   "metadata": {},
   "outputs": [
    {
     "name": "stdout",
     "output_type": "stream",
     "text": [
      "((1, '제목수정됨', '내용Z'),)\n",
      "(1, '제목수정됨', '내용Z')\n",
      "제목수정됨\n"
     ]
    }
   ],
   "source": [
    "import pymysql\n",
    "\n",
    "\n",
    "conn = pymysql.connect(\n",
    "host ='localhost', user='root', password=비밀번호,\n",
    "db='python', charset='utf8') #데이터베이스 접속\n",
    "\n",
    "cursor = conn.cursor() #Cursor 객체 생성\n",
    "\n",
    "sql = '''SELECT * FROM MYSQL'''\n",
    "           \n",
    "\n",
    "cursor.execute(sql) #sql 실행\n",
    "result = cursor.fetchall() #fetchall() 모두 조회 \n",
    "print(result)\n",
    "print(result[0])\n",
    "print(result[0][1])\n",
    "\n",
    "\n",
    "conn.commit() \n",
    "\n",
    "\n",
    "cursor.close()\n",
    "conn.close() # try 내의 전역변수 "
   ]
  },
  {
   "cell_type": "markdown",
   "metadata": {},
   "source": [
    "fetchall():모두조회\n",
    "\n",
    "fetchmany() : 여러개 데이터 조회\n",
    "\n",
    "fetchone: 하나만 조회 \n"
   ]
  },
  {
   "cell_type": "code",
   "execution_count": 17,
   "metadata": {},
   "outputs": [],
   "source": [
    "# member 테이블 만들기\n",
    "\n",
    "\n",
    "import pymysql\n",
    "\n",
    "\n",
    "conn = pymysql.connect(\n",
    "host ='localhost', user='root', password=비밀번호,\n",
    "db='python', charset='utf8') #데이터베이스 접속\n",
    "\n",
    "cursor = conn.cursor() #Cursor 객체 생성\n",
    "\n",
    "sql = '''CREATE TABLE member (\n",
    "                    NUM INTEGER PRIMARY KEY AUTO_INCREMENT\n",
    "                    , NAME VARCHAR(30), EMAIL VARCHAR(30), C_DATE DATETIME)'''\n",
    "\n",
    "           \n",
    "\n",
    "cursor.execute(sql) #sql 실행\n",
    "\n",
    "conn.commit() \n",
    "\n",
    "\n",
    "cursor.close()\n",
    "conn.close() # try 내의 전역변수 "
   ]
  },
  {
   "cell_type": "code",
   "execution_count": 19,
   "metadata": {},
   "outputs": [],
   "source": [
    "#  article  테이블 만들기\n",
    "\n",
    "\n",
    "import pymysql\n",
    "\n",
    "\n",
    "conn = pymysql.connect(\n",
    "host ='localhost', user='root', password=비밀번호,\n",
    "db='python', charset='utf8') #데이터베이스 접속\n",
    "\n",
    "cursor = conn.cursor() #Cursor 객체 생성\n",
    "\n",
    "sql = '''CREATE TABLE article (\n",
    "                    ID INTEGER PRIMARY KEY AUTO_INCREMENT\n",
    "                    , TITLE VARCHAR(30), CONTENT VARCHAR(30), WRITER VARCHAR(30),\n",
    "                    HIT INTEGER, C_DATE DATETIME)'''\n",
    "\n",
    "           \n",
    "\n",
    "cursor.execute(sql) #sql 실행\n",
    "\n",
    "conn.commit() \n",
    "\n",
    "\n",
    "cursor.close()\n",
    "conn.close() # try 내의 전역변수 "
   ]
  }
 ],
 "metadata": {
  "kernelspec": {
   "display_name": "Python 3",
   "language": "python",
   "name": "python3"
  },
  "language_info": {
   "codemirror_mode": {
    "name": "ipython",
    "version": 3
   },
   "file_extension": ".py",
   "mimetype": "text/x-python",
   "name": "python",
   "nbconvert_exporter": "python",
   "pygments_lexer": "ipython3",
   "version": "3.7.4"
  }
 },
 "nbformat": 4,
 "nbformat_minor": 2
}
